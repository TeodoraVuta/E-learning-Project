{
 "cells": [
  {
   "cell_type": "markdown",
   "metadata": {},
   "source": [
    "USED PACKAGES"
   ]
  },
  {
   "cell_type": "markdown",
   "metadata": {},
   "source": []
  },
  {
   "cell_type": "code",
   "execution_count": null,
   "metadata": {},
   "outputs": [],
   "source": [
    "import pandas as pd\n",
    "import numpy as np"
   ]
  },
  {
   "cell_type": "code",
   "execution_count": 2,
   "metadata": {},
   "outputs": [
    {
     "name": "stdout",
     "output_type": "stream",
     "text": [
      "      Course_ID   Course_Name      Category  Duration (hours)  \\\n",
      "0             1      Course_1  Office Tools                21   \n",
      "1             2      Course_2  Office Tools                57   \n",
      "2             3      Course_3    Technology                52   \n",
      "3             4      Course_4  Office Tools                69   \n",
      "4             5      Course_5    Technology                43   \n",
      "...         ...           ...           ...               ...   \n",
      "9995       9996   Course_9996            AI                87   \n",
      "9996       9997   Course_9997  Data Science                96   \n",
      "9997       9998   Course_9998            AI                25   \n",
      "9998       9999   Course_9999   Programming                46   \n",
      "9999      10000  Course_10000   Programming                50   \n",
      "\n",
      "      Enrolled_Students  Completion_Rate (%)           Platform   Price ($)  \\\n",
      "0                  4217            50.646827           Coursera   38.797425   \n",
      "1                  4238            82.240240                edX  160.650991   \n",
      "2                  2700            55.729028  LinkedIn Learning  123.503781   \n",
      "3                  4308            58.664729  LinkedIn Learning  116.775704   \n",
      "4                  4792            62.598147              Udemy   96.246696   \n",
      "...                 ...                  ...                ...         ...   \n",
      "9995                482            55.407463              Udemy  155.965331   \n",
      "9996               2029            93.093483           Coursera  151.022434   \n",
      "9997                136            90.279510  LinkedIn Learning  101.155089   \n",
      "9998               3258            73.720149                edX  101.143232   \n",
      "9999                257            71.381890              Udemy  125.116906   \n",
      "\n",
      "      Rating (out of 5)  \n",
      "0              4.811252  \n",
      "1              3.829329  \n",
      "2              4.851950  \n",
      "3              3.913732  \n",
      "4              4.921968  \n",
      "...                 ...  \n",
      "9995           4.155649  \n",
      "9996           4.037755  \n",
      "9997           3.603868  \n",
      "9998           3.825781  \n",
      "9999           3.767038  \n",
      "\n",
      "[10000 rows x 9 columns]\n"
     ]
    }
   ],
   "source": [
    "df = pd.read_csv('courses.csv')\n",
    "print(df)"
   ]
  }
 ],
 "metadata": {
  "kernelspec": {
   "display_name": "Python 3",
   "language": "python",
   "name": "python3"
  },
  "language_info": {
   "codemirror_mode": {
    "name": "ipython",
    "version": 3
   },
   "file_extension": ".py",
   "mimetype": "text/x-python",
   "name": "python",
   "nbconvert_exporter": "python",
   "pygments_lexer": "ipython3",
   "version": "3.10.13"
  }
 },
 "nbformat": 4,
 "nbformat_minor": 2
}
